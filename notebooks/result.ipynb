{
 "cells": [
  {
   "cell_type": "code",
   "execution_count": 1,
   "metadata": {},
   "outputs": [],
   "source": [
    "%load_ext autoreload\n",
    "%autoreload 2"
   ]
  },
  {
   "cell_type": "code",
   "execution_count": 41,
   "metadata": {},
   "outputs": [
    {
     "name": "stdout",
     "output_type": "stream",
     "text": [
      "(PlyElement('vertex', (PlyProperty('x', 'double'), PlyProperty('y', 'double'), PlyProperty('z', 'double'), PlyProperty('red', 'uchar'), PlyProperty('green', 'uchar'), PlyProperty('blue', 'uchar')), count=2307, comments=[]),)\n",
      "0 vertex (2307,)\n",
      "[[-0.10683113  0.177035    0.29429337]\n",
      " [-0.29101491  0.41317955  0.10002431]\n",
      " [ 0.07400625  0.572007   -0.00379968]\n",
      " ...\n",
      " [ 0.03630961  0.32718655  0.06216304]\n",
      " [-0.00258933  0.26196203 -0.0575931 ]\n",
      " [ 0.09389769  0.45742857 -0.32035154]]\n",
      "[43814  1548 58458 ...  4903  4903 16288]\n",
      "(34,)\n"
     ]
    }
   ],
   "source": [
    "import open3d as o3d\n",
    "import numpy as np\n",
    "import h5py as h5\n",
    "from plyfile import PlyData, PlyElement\n",
    "from SorghumPartNet.data.utils import rgb_dec_to_hex \n",
    "\n",
    "result_file_path = \"/space/murph186/results/BTx_623_1101_330749064044/instance.ply\"\n",
    "\n",
    "plydata = PlyData.read(result_file_path)\n",
    "print(plydata.elements)\n",
    "for i in range(len(plydata.elements)):\n",
    "    print(i,plydata.elements[i].name,plydata.elements[i].data.shape)\n",
    "\n",
    "data = np.asarray(np.array(plydata.elements[0].data).tolist())\n",
    "\n",
    "points = data[:, :3]\n",
    "colors = np.apply_along_axis(rgb_dec_to_hex, 1, (data[:, 3:] / 255))\n",
    "\n",
    "print(points)\n",
    "print(colors)\n",
    "print(np.unique(colors).shape)"
   ]
  },
  {
   "cell_type": "code",
   "execution_count": 42,
   "metadata": {},
   "outputs": [
    {
     "name": "stdout",
     "output_type": "stream",
     "text": [
      "(2307,)\n",
      "(2307, 3)\n"
     ]
    },
    {
     "data": {
      "application/vnd.jupyter.widget-view+json": {
       "model_id": "4bdce74de1b84e7ea898bb6547c2590f",
       "version_major": 2,
       "version_minor": 0
      },
      "text/plain": [
       "Output()"
      ]
     },
     "metadata": {},
     "output_type": "display_data"
    }
   ],
   "source": [
    "import k3d\n",
    "print(colors.shape)\n",
    "print(points.shape)\n",
    "plot = k3d.plot(name='points')\n",
    "plt_points = k3d.points(positions=points, point_size=0.01, colors=colors)\n",
    "plot += plt_points\n",
    "\n",
    "\n",
    "plt_points.shader='3d'\n",
    "plot.display()"
   ]
  }
 ],
 "metadata": {
  "interpreter": {
   "hash": "dcd6d3ebe9076c7f55953676c4608cb3132b0a6dbb3127ca91c74f963ad52978"
  },
  "kernelspec": {
   "display_name": "Python 3.9.12 ('spartnet')",
   "language": "python",
   "name": "python3"
  },
  "language_info": {
   "codemirror_mode": {
    "name": "ipython",
    "version": 3
   },
   "file_extension": ".py",
   "mimetype": "text/x-python",
   "name": "python",
   "nbconvert_exporter": "python",
   "pygments_lexer": "ipython3",
   "version": "3.9.12"
  },
  "orig_nbformat": 4
 },
 "nbformat": 4,
 "nbformat_minor": 2
}
