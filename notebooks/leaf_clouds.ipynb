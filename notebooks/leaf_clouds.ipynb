{
 "cells": [
  {
   "cell_type": "code",
   "execution_count": 1,
   "metadata": {},
   "outputs": [],
   "source": [
    "%load_ext autoreload\n",
    "%autoreload 2"
   ]
  },
  {
   "cell_type": "code",
   "execution_count": 2,
   "metadata": {},
   "outputs": [
    {
     "name": "stdout",
     "output_type": "stream",
     "text": [
      "Jupyter environment detected. Enabling Open3D WebVisualizer.\n",
      "[Open3D INFO] WebRTC GUI backend enabled.\n",
      "[Open3D INFO] WebRTCWindowSystem: HTTP handshake server disabled.\n"
     ]
    }
   ],
   "source": [
    "sys.path.append(\"../..\")\n",
    "import numpy as np\n",
    "import h5py as h5\n",
    "from plyfile import PlyData, PlyElement\n",
    "from SorghumPartNet.data.utils import *\n",
    "import k3d"
   ]
  },
  {
   "cell_type": "code",
   "execution_count": 12,
   "metadata": {},
   "outputs": [
    {
     "name": "stdout",
     "output_type": "stream",
     "text": [
      "Keys: points_full, points, is_focal_plant, leaf_index, leaf_part_index, leaf_part_full_index, plant_index, ground_index\n",
      "  points_full : (159980, 3)\n",
      "  points : (159980, 3)\n",
      "  is_focal_plant : (159980,)\n",
      "  leaf_index : (159980,)\n",
      "  leaf_part_index : (159980,)\n",
      "  leaf_part_full_index : (159980,)\n",
      "  plant_index : (159980,)\n",
      "  ground_index : (159980,)\n"
     ]
    }
   ],
   "source": [
    "from SorghumPartNet.data.load_raw_data import *\n",
    "\n",
    "example_ply_filepath = \"data/PointCloud/S12_9.ply\"\n",
    "\n",
    "pcd = load_pcd_plyfile(example_ply_filepath, down_sample_n=None)\n",
    "\n",
    "print(\"Keys: \" + \", \".join(pcd.keys()))\n",
    "for k in pcd.keys():\n",
    "  print(f\"  {k} : {pcd[k].shape}\")"
   ]
  },
  {
   "cell_type": "code",
   "execution_count": 14,
   "metadata": {},
   "outputs": [
    {
     "name": "stdout",
     "output_type": "stream",
     "text": [
      "Keys: points, leaf_index, leaf_count, _plant_index, _names\n",
      "  points : 264\n",
      "  leaf_index : 264\n",
      "  leaf_count : 264\n",
      "  _plant_index : 264\n",
      "  _names : 264\n"
     ]
    }
   ],
   "source": [
    "from SorghumPartNet.data.generate_leaf_dataset import *\n",
    "\n",
    "example_ply_filepath = \"data/PointCloud/\"\n",
    "leaf_dataset = generate_leaf_dataset(example_ply_filepath, segment_error_pop_percent=0.5)\n",
    "\n",
    "print(\"Keys: \" + \", \".join(leaf_dataset.keys()))\n",
    "for k in leaf_dataset.keys():\n",
    "  print(f\"  {k} : {len(leaf_dataset[k])}\")"
   ]
  },
  {
   "cell_type": "code",
   "execution_count": 15,
   "metadata": {},
   "outputs": [
    {
     "name": "stderr",
     "output_type": "stream",
     "text": [
      "/work/murph186/anaconda3/envs/spartnet/lib/python3.9/site-packages/traittypes/traittypes.py:97: UserWarning: Given trait value dtype \"float64\" does not match required type \"float32\". A coerced copy has been created.\n",
      "  warnings.warn(\n"
     ]
    },
    {
     "data": {
      "application/vnd.jupyter.widget-view+json": {
       "model_id": "7283c26ae5b446e5b1b5109cc93367dd",
       "version_major": 2,
       "version_minor": 0
      },
      "text/plain": [
       "Plot(antialias=3, axes=['x', 'y', 'z'], axes_helper=1.0, axes_helper_colors=[16711680, 65280, 255], background…"
      ]
     },
     "metadata": {},
     "output_type": "display_data"
    },
    {
     "data": {
      "application/vnd.jupyter.widget-view+json": {
       "model_id": "15c899410db1406e957352c382e45329",
       "version_major": 2,
       "version_minor": 0
      },
      "text/plain": [
       "Output()"
      ]
     },
     "metadata": {},
     "output_type": "display_data"
    }
   ],
   "source": [
    "plot_leaf_dataset(leaf_dataset)"
   ]
  },
  {
   "cell_type": "code",
   "execution_count": 17,
   "metadata": {},
   "outputs": [
    {
     "name": "stdout",
     "output_type": "stream",
     "text": [
      "158\n",
      "53\n",
      "53\n"
     ]
    }
   ],
   "source": [
    "from SorghumPartNet.data.generate_leaf_dataset import split_dataset\n",
    "\n",
    "(train, val, test) = split_dataset(leaf_dataset)\n",
    "\n",
    "print(len(train[\"points\"]))\n",
    "print(len(val[\"points\"]))\n",
    "print(len(test[\"points\"]))"
   ]
  }
 ],
 "metadata": {
  "interpreter": {
   "hash": "dcd6d3ebe9076c7f55953676c4608cb3132b0a6dbb3127ca91c74f963ad52978"
  },
  "kernelspec": {
   "display_name": "Python 3.9.12 ('spartnet')",
   "language": "python",
   "name": "python3"
  },
  "language_info": {
   "codemirror_mode": {
    "name": "ipython",
    "version": 3
   },
   "file_extension": ".py",
   "mimetype": "text/x-python",
   "name": "python",
   "nbconvert_exporter": "python",
   "pygments_lexer": "ipython3",
   "version": "3.9.12"
  },
  "orig_nbformat": 4
 },
 "nbformat": 4,
 "nbformat_minor": 2
}
