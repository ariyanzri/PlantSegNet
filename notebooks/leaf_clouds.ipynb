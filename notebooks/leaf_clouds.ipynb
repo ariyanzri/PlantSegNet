{
 "cells": [
  {
   "cell_type": "code",
   "execution_count": null,
   "metadata": {},
   "outputs": [
    {
     "ename": "",
     "evalue": "",
     "output_type": "error",
     "traceback": [
      "\u001b[1;31mFailed to start the Kernel. \n",
      "Cannot execute code, session has been disposed. \n",
      "View Jupyter <a href='command:jupyter.viewOutput'>log</a> for further details."
     ]
    }
   ],
   "source": [
    "%load_ext autoreload\n",
    "%autoreload 2"
   ]
  },
  {
   "cell_type": "code",
   "execution_count": null,
   "metadata": {},
   "outputs": [],
   "source": [
    "sys.path.append(\"../..\")\n",
    "import numpy as np\n",
    "import h5py as h5\n",
    "from plyfile import PlyData, PlyElement\n",
    "from SorghumPartNet.data.utils import *\n",
    "import k3d"
   ]
  },
  {
   "cell_type": "code",
   "execution_count": null,
   "metadata": {},
   "outputs": [],
   "source": [
    "from SorghumPartNet.data.load_raw_data import *\n",
    "\n",
    "example_ply_filepath = \"data/PointCloud/S12_9.ply\"\n",
    "\n",
    "pcd = load_pcd_plyfile(example_ply_filepath, down_sample_n=None)\n",
    "\n",
    "print(\"Keys: \" + \", \".join(pcd.keys()))\n",
    "for k in pcd.keys():\n",
    "  print(f\"  {k} : {pcd[k].shape}\")"
   ]
  },
  {
   "cell_type": "code",
   "execution_count": null,
   "metadata": {},
   "outputs": [],
   "source": [
    "from SorghumPartNet.data.generate_leaf_dataset import *\n",
    "\n",
    "example_plant_data_filepath = \"/space/ariyanzarei/sorghum_segmentation/dataset/2022-03-10/sorghum__labeled_train.hdf5\"\n",
    "leaf_dataset = generate_leaf_dataset(example_plant_data_filepath, segment_error_pop_percent=0.5)\n",
    "\n",
    "print(\"Keys: \" + \", \".join(leaf_dataset.keys()))\n",
    "for k in leaf_dataset.keys():\n",
    "  print(f\"  {k} : {len(leaf_dataset[k])}\")"
   ]
  },
  {
   "cell_type": "code",
   "execution_count": null,
   "metadata": {},
   "outputs": [],
   "source": [
    "plot_leaf_dataset(leaf_dataset)"
   ]
  },
  {
   "cell_type": "code",
   "execution_count": null,
   "metadata": {},
   "outputs": [],
   "source": [
    "from SorghumPartNet.data.generate_leaf_dataset import split_dataset\n",
    "\n",
    "(train, val, test) = split_dataset(leaf_dataset)\n",
    "\n",
    "print(len(train[\"points\"]))\n",
    "print(len(val[\"points\"]))\n",
    "print(len(test[\"points\"]))"
   ]
  }
 ],
 "metadata": {
  "interpreter": {
   "hash": "dcd6d3ebe9076c7f55953676c4608cb3132b0a6dbb3127ca91c74f963ad52978"
  },
  "kernelspec": {
   "display_name": "Python 3.9.12 ('spartnet')",
   "language": "python",
   "name": "python3"
  },
  "language_info": {
   "codemirror_mode": {
    "name": "ipython",
    "version": 3
   },
   "file_extension": ".py",
   "mimetype": "text/x-python",
   "name": "python",
   "nbconvert_exporter": "python",
   "pygments_lexer": "ipython3",
   "version": "3.9.12"
  },
  "orig_nbformat": 4
 },
 "nbformat": 4,
 "nbformat_minor": 2
}
