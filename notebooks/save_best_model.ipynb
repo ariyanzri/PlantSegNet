{
 "cells": [
  {
   "cell_type": "code",
   "execution_count": 1,
   "metadata": {},
   "outputs": [],
   "source": [
    "import torch\n",
    "import os\n",
    "import sys\n",
    "sys.path.append(\"..\")\n",
    "from models.nn_models import *"
   ]
  },
  {
   "cell_type": "code",
   "execution_count": 2,
   "metadata": {},
   "outputs": [],
   "source": [
    "def load_model_chkpoint(model, path):\n",
    "\n",
    "    model = eval(model).load_from_checkpoint(path)\n",
    "    model = model.cuda()\n",
    "    model.eval()\n",
    "    return model\n",
    "\n",
    "def load_model(model_name, version):\n",
    "    if version == -1:\n",
    "        versions = os.listdir(\n",
    "            f\"/space/ariyanzarei/sorghum_segmentation/models/model_checkpoints/{model_name}/lightning_logs\"\n",
    "        )\n",
    "        version = sorted(versions)[-1].split(\"_\")[-1]\n",
    "\n",
    "    path_all_checkpoints = f\"/space/ariyanzarei/sorghum_segmentation/models/model_checkpoints/{model_name}/lightning_logs/version_{version}/checkpoints\"\n",
    "    path = os.listdir(path_all_checkpoints)[0]\n",
    "    print(\"Using \", path)\n",
    "    model = load_model_chkpoint(model_name, os.path.join(path_all_checkpoints, path))\n",
    "    return model"
   ]
  },
  {
   "cell_type": "code",
   "execution_count": 3,
   "metadata": {},
   "outputs": [
    {
     "name": "stdout",
     "output_type": "stream",
     "text": [
      "Using  epoch=16-step=31874.ckpt\n"
     ]
    }
   ],
   "source": [
    "semantic_model = load_model(\"SorghumPartNetSemantic\", -1)"
   ]
  },
  {
   "cell_type": "code",
   "execution_count": 4,
   "metadata": {},
   "outputs": [],
   "source": [
    "torch.save(semantic_model, \"/space/ariyanzarei/sorghum_segmentation/models/model_files/SorghumPartNetSemantic.pth\")"
   ]
  }
 ],
 "metadata": {
  "kernelspec": {
   "display_name": "Python 3.8.12 ('plantpart')",
   "language": "python",
   "name": "python3"
  },
  "language_info": {
   "codemirror_mode": {
    "name": "ipython",
    "version": 3
   },
   "file_extension": ".py",
   "mimetype": "text/x-python",
   "name": "python",
   "nbconvert_exporter": "python",
   "pygments_lexer": "ipython3",
   "version": "3.8.12"
  },
  "orig_nbformat": 4,
  "vscode": {
   "interpreter": {
    "hash": "788ce38e033d031edf7362c4d6e542c9e2351109696c126a1d0cf4142b964d4b"
   }
  }
 },
 "nbformat": 4,
 "nbformat_minor": 2
}
