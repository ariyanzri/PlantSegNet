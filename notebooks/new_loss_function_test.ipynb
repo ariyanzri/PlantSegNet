{
 "cells": [
  {
   "cell_type": "code",
   "execution_count": 6,
   "metadata": {},
   "outputs": [],
   "source": [
    "import numpy as np\n",
    "import matplotlib.pyplot as plt\n",
    "import torch\n",
    "\n",
    "import sys\n",
    "sys.path.append(\"..\")\n",
    "\n",
    "from data import utils\n",
    "from data import load_raw_data\n",
    "from models.datasets import SorghumDatasetWithNormals"
   ]
  },
  {
   "cell_type": "code",
   "execution_count": 2,
   "metadata": {},
   "outputs": [],
   "source": [
    "pcd = load_raw_data.load_pcd_plyfile_new_approach(\"/space/ariyanzarei/sorghum_segmentation/dataset/archive/synthetic/2022-11-06/PointCloud/S11_31.ply\", True)\n",
    "points = pcd['points']\n",
    "labels = pcd['labels'].squeeze()"
   ]
  },
  {
   "cell_type": "code",
   "execution_count": null,
   "metadata": {},
   "outputs": [],
   "source": [
    "maxs = np.max(points,0)\n",
    "\n",
    "ind = np.where(points[:,2] == maxs[2])[0][0]\n",
    "\n",
    "points = torch.from_numpy(points).type(torch.DoubleTensor).unsqueeze(0)\n",
    "\n",
    "mins, _ = torch.min(points, axis=1)\n",
    "maxs, _ = torch.max(points, axis=1)\n",
    "mins = mins.unsqueeze(1)\n",
    "maxs = maxs.unsqueeze(1)\n",
    "points = (points - mins) / (maxs - mins) - 0.5\n",
    "\n",
    "points = points.squeeze()\n",
    "distance = torch.cdist(points, points)\n",
    "\n",
    "knn_values, knn_ind = (distance * -1).topk(k=20, dim=-1)\n",
    "nonzero_ind = (knn_values<0).nonzero()\n",
    "print(knn_values.shape, nonzero_ind.shape)\n",
    "# filtered_ind = knn_ind[]\n",
    "print(filtered_ind.shape)\n",
    "knn_pred_dist = distance.gather(-1, knn_ind)\n",
    "\n",
    "print(knn_ind.shape, knn_pred_dist.shape)\n",
    "print(min(distance[ind]),max(distance[ind]))\n",
    "\n",
    "close_points = np.where(distance[ind]<0.1)\n",
    "far_points = np.where(distance[ind]>=0.1)\n",
    "distance_colors = distance[ind]\n",
    "\n",
    "d_colors = utils.distinct_colors(len(set(labels.tolist())))\n",
    "colors = np.zeros((labels.shape[0], 3))\n",
    "for i, l in enumerate(list(set(labels.tolist()))):\n",
    "    colors[labels == l, :] = d_colors[i]\n",
    "\n",
    "fig = plt.figure(figsize=(15,15))\n",
    "ax = fig.add_subplot(projection='3d')\n",
    "ax.scatter(points[far_points,0],points[far_points,1],points[far_points,2], s=2)\n",
    "ax.scatter(points[ind,0],points[ind,1],points[ind,2], s=20, c=(1,0,0))\n",
    "ax.scatter(points[close_points,0],points[close_points,1],points[close_points,2], s=5, c=(0,1,0))\n",
    "# ax.scatter(points[:,2],points[:,0],points[:,1], s=5, c=distance_colors)\n",
    "plt.show()\n"
   ]
  },
  {
   "cell_type": "code",
   "execution_count": 7,
   "metadata": {},
   "outputs": [],
   "source": [
    "ds = SorghumDatasetWithNormals(\"/space/ariyanzarei/sorghum_segmentation/dataset/SPNS/SorghumPartNetFormat/instance_segmentation_train.hdf5\", False)"
   ]
  },
  {
   "cell_type": "code",
   "execution_count": 9,
   "metadata": {},
   "outputs": [
    {
     "name": "stdout",
     "output_type": "stream",
     "text": [
      "torch.Size([2, 8000, 3])\n",
      "torch.Size([2, 8000])\n"
     ]
    }
   ],
   "source": [
    "ind = 3\n",
    "\n",
    "points, labels = ds[ind:ind+2]\n",
    "print(points.shape)\n",
    "print(labels.shape)"
   ]
  },
  {
   "cell_type": "code",
   "execution_count": 19,
   "metadata": {},
   "outputs": [],
   "source": [
    "def knn(x, k):\n",
    "    inner = -2 * torch.matmul(x.transpose(2, 1), x)\n",
    "    xx = torch.sum(x**2, dim=1, keepdim=True)\n",
    "    pairwise_distance = -xx - inner - xx.transpose(2, 1)\n",
    "    idx = pairwise_distance.topk(k=k, dim=-1)[1]  # (batch_size, num_points, k)\n",
    "    return idx"
   ]
  },
  {
   "cell_type": "code",
   "execution_count": 30,
   "metadata": {},
   "outputs": [
    {
     "name": "stdout",
     "output_type": "stream",
     "text": [
      "torch.Size([2, 8000, 5, 3])\n"
     ]
    }
   ],
   "source": [
    "k = 5\n",
    "\n",
    "x = points.transpose(1,2)\n",
    "batch_size = x.size(0)\n",
    "num_points = x.size(2)\n",
    "x = x.view(batch_size, -1, num_points)\n",
    "idx = knn(x, k)\n",
    "\n",
    "idx_base = torch.arange(0, batch_size).view(-1, 1, 1) * num_points\n",
    "idx = idx + idx_base\n",
    "idx = idx.view(-1)\n",
    "_, num_dims, _ = x.size()\n",
    "x = x.transpose(2, 1).contiguous()\n",
    "knn_coords = x.view(batch_size * num_points, -1)[idx, :]\n",
    "knn_coords = knn_coords.view(batch_size, num_points, k, num_dims)\n",
    "print(knn_coords.shape)"
   ]
  }
 ],
 "metadata": {
  "kernelspec": {
   "display_name": "Python 3.8.12 ('plantpart')",
   "language": "python",
   "name": "python3"
  },
  "language_info": {
   "codemirror_mode": {
    "name": "ipython",
    "version": 3
   },
   "file_extension": ".py",
   "mimetype": "text/x-python",
   "name": "python",
   "nbconvert_exporter": "python",
   "pygments_lexer": "ipython3",
   "version": "3.8.12"
  },
  "orig_nbformat": 4,
  "vscode": {
   "interpreter": {
    "hash": "788ce38e033d031edf7362c4d6e542c9e2351109696c126a1d0cf4142b964d4b"
   }
  }
 },
 "nbformat": 4,
 "nbformat_minor": 2
}
