{
 "cells": [
  {
   "cell_type": "code",
   "execution_count": 1,
   "metadata": {},
   "outputs": [],
   "source": [
    "%load_ext autoreload\n",
    "%autoreload 2"
   ]
  },
  {
   "cell_type": "code",
   "execution_count": 16,
   "metadata": {},
   "outputs": [
    {
     "name": "stdout",
     "output_type": "stream",
     "text": [
      "(PlyElement('vertex', (PlyProperty('x', 'float'), PlyProperty('z', 'float'), PlyProperty('y', 'float')), count=105467, comments=[]), PlyElement('color', (PlyProperty('red', 'float'), PlyProperty('green', 'float'), PlyProperty('blue', 'float')), count=105467, comments=[]), PlyElement('leafIndex', (PlyProperty('value', 'int'),), count=105467, comments=[]), PlyElement('leafPartIndex', (PlyProperty('value', 'int'),), count=105467, comments=[]), PlyElement('isMainPlant', (PlyProperty('value', 'int'),), count=105467, comments=[]), PlyElement('plantIndex', (PlyProperty('value', 'int'),), count=105467, comments=[]), PlyElement('isGround', (PlyProperty('value', 'int'),), count=105467, comments=[]))\n",
      "0 vertex (105467,)\n",
      "1 color (105467,)\n",
      "2 leafIndex (105467,)\n",
      "3 leafPartIndex (105467,)\n",
      "4 isMainPlant (105467,)\n",
      "5 plantIndex (105467,)\n",
      "6 isGround (105467,)\n",
      "{'points_full': array([[-0.45292581,  0.87339645,  0.55257413],\n",
      "       [-0.46645121,  0.8413096 ,  0.55257413],\n",
      "       [-0.4753315 ,  0.81726819,  0.55757419],\n",
      "       ...,\n",
      "       [ 0.33622168,  0.68638187, -0.10242582],\n",
      "       [ 0.33710377,  0.68485408, -0.10742583],\n",
      "       [ 0.34208386,  0.68488848, -0.10742583]]), 'points': array([[-0.22744168, -0.12133692, -0.08742582],\n",
      "       [-0.20859357, -0.22326485, -0.27742582],\n",
      "       [ 0.39955943, -0.2654526 ,  0.36257416],\n",
      "       ...,\n",
      "       [-0.05943548, -0.27376806, -0.34742581],\n",
      "       [ 0.11525642, -0.26457428, -0.38742581],\n",
      "       [ 0.36488818, -0.18599423,  0.25757414]])}\n"
     ]
    }
   ],
   "source": [
    "import open3d as o3d\n",
    "import numpy as np\n",
    "import h5py as h5\n",
    "from plyfile import PlyData, PlyElement\n",
    "\n",
    "data_file_path = \"/space/murph186/sorghum_segmentation/dataset/BTx_623_1101_330749064044_data/BTx_623_1101_330749064044/combined_multiway_registered.ply\"\n",
    "# data_file_path = \"/space/ariyanzarei/sorghum_segmentation/dataset/2022-03-10/PointCloud/452.ply\"\n",
    "\n",
    "plydata = PlyData.read(data_file_path)\n",
    "print(plydata.elements)\n",
    "for i in range(len(plydata.elements)):\n",
    "    print(i,plydata.elements[i].name,plydata.elements[i].data.shape)\n",
    "\n",
    "data = np.asarray(np.array(plydata.elements[0].data).tolist())\n",
    "\n",
    "from data.load_raw_data import load_pcd_plyfile, load_points_only\n",
    "\n",
    "pcd = load_points_only(data_file_path)\n",
    "\n",
    "print(pcd)\n"
   ]
  },
  {
   "cell_type": "code",
   "execution_count": 17,
   "metadata": {},
   "outputs": [
    {
     "data": {
      "application/vnd.jupyter.widget-view+json": {
       "model_id": "8b0a7fe59ec1441fa4565ad7faaad2fe",
       "version_major": 2,
       "version_minor": 0
      },
      "text/plain": [
       "Output()"
      ]
     },
     "metadata": {},
     "output_type": "display_data"
    }
   ],
   "source": [
    "import k3d\n",
    "plot = k3d.plot(name='points')\n",
    "plt_points = k3d.points(positions=pcd[\"points\"], point_size=0.01)\n",
    "plot += plt_points\n",
    "\n",
    "\n",
    "plt_points.shader='3d'\n",
    "plot.display()"
   ]
  },
  {
   "cell_type": "code",
   "execution_count": 7,
   "metadata": {},
   "outputs": [
    {
     "name": "stdout",
     "output_type": "stream",
     "text": [
      "{'points_full': array([[-0.45292581,  0.87339645,  0.55257413],\n",
      "       [-0.46645121,  0.8413096 ,  0.55257413],\n",
      "       [-0.4753315 ,  0.81726819,  0.55757419],\n",
      "       ...,\n",
      "       [ 0.33622168,  0.68638187, -0.10242582],\n",
      "       [ 0.33710377,  0.68485408, -0.10742583],\n",
      "       [ 0.34208386,  0.68488848, -0.10742583]]), 'points': array([[ 0.5008009 , -0.26330214, -0.30242583],\n",
      "       [-0.47511164,  0.66176438,  0.39257417],\n",
      "       [ 0.04698589,  0.79530131, -0.13742582],\n",
      "       ...,\n",
      "       [ 0.05479306, -0.24772737,  0.30257416],\n",
      "       [-0.33280117, -0.11365654,  0.62257418],\n",
      "       [ 0.24871798,  0.42591047,  0.21257414]])}\n"
     ]
    }
   ],
   "source": [
    "\n",
    "pcd_sim = load_points_only(\"/space/ariyanzarei/sorghum_segmentation/dataset/2022-03-10/PointCloud/452.ply\")\n",
    "\n",
    "print(pcd_sim)"
   ]
  }
 ],
 "metadata": {
  "interpreter": {
   "hash": "dcd6d3ebe9076c7f55953676c4608cb3132b0a6dbb3127ca91c74f963ad52978"
  },
  "kernelspec": {
   "display_name": "Python 3.9.12 ('spartnet')",
   "language": "python",
   "name": "python3"
  },
  "language_info": {
   "codemirror_mode": {
    "name": "ipython",
    "version": 3
   },
   "file_extension": ".py",
   "mimetype": "text/x-python",
   "name": "python",
   "nbconvert_exporter": "python",
   "pygments_lexer": "ipython3",
   "version": "3.9.12"
  },
  "orig_nbformat": 4
 },
 "nbformat": 4,
 "nbformat_minor": 2
}
